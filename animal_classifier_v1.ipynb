{
 "cells": [
  {
   "cell_type": "code",
   "execution_count": 13,
   "id": "8495d19f-e713-42c7-80c7-e44e32c71bec",
   "metadata": {},
   "outputs": [],
   "source": [
    "## Step 1: Import Required Libraries\n",
    "import numpy as np\n",
    "from tensorflow.keras.models import Sequential\n",
    "from tensorflow.keras.layers import Dense, Flatten\n",
    "from tensorflow.keras.utils import to_categorical\n",
    "from tensorflow.keras.optimizers import Adam"
   ]
  },
  {
   "cell_type": "code",
   "execution_count": 22,
   "id": "a49285be-1b89-4f43-9c5e-be6e0de4848e",
   "metadata": {},
   "outputs": [],
   "source": [
    "## 🧪 Step 2: Generate Simulated Training Data\n",
    "# Simulate grayscale 28x28 images (like MNIST)\n",
    "num_samples = 300\n",
    "image_height, image_width = 28, 28\n",
    "num_classes = 3\n",
    "\n",
    "X_train = np.random.rand(num_samples, image_height, image_width, 1)\n",
    "y_train = np.array([0]*100 + [1]*100 + [2]*100)\n",
    "\n",
    "# Shuffle\n",
    "indices = np.random.permutation(num_samples)\n",
    "X_train, y_train = X_train[indices], y_train[indices]\n",
    "y_train_encoded = to_categorical(y_train, num_classes=num_classes)"
   ]
  },
  {
   "cell_type": "code",
   "execution_count": 23,
   "id": "ce39cdca-0e30-4afb-9343-c02c0602f6d9",
   "metadata": {},
   "outputs": [
    {
     "name": "stdout",
     "output_type": "stream",
     "text": [
      "Model: \"sequential_3\"\n",
      "_________________________________________________________________\n",
      " Layer (type)                Output Shape              Param #   \n",
      "=================================================================\n",
      " flatten_3 (Flatten)         (None, 784)               0         \n",
      "                                                                 \n",
      " dense_9 (Dense)             (None, 128)               100480    \n",
      "                                                                 \n",
      " dense_10 (Dense)            (None, 64)                8256      \n",
      "                                                                 \n",
      " dense_11 (Dense)            (None, 3)                 195       \n",
      "                                                                 \n",
      "=================================================================\n",
      "Total params: 108931 (425.51 KB)\n",
      "Trainable params: 108931 (425.51 KB)\n",
      "Non-trainable params: 0 (0.00 Byte)\n",
      "_________________________________________________________________\n"
     ]
    }
   ],
   "source": [
    "## 🧠 Step 3: Build the Neural Network\n",
    "# Build the model\n",
    "model = Sequential([\n",
    "    Flatten(input_shape=(image_height, image_width, 1)),\n",
    "    Dense(128, activation='relu'),\n",
    "    Dense(64, activation='relu'),\n",
    "    Dense(num_classes, activation='softmax')\n",
    "])\n",
    "# Print the model architecture\n",
    "model.summary()\n"
   ]
  },
  {
   "cell_type": "code",
   "execution_count": 29,
   "id": "d2aecd36-f70c-4427-a3de-f228816bd2ba",
   "metadata": {},
   "outputs": [
    {
     "name": "stdout",
     "output_type": "stream",
     "text": [
      "Epoch 1/10\n",
      "8/8 [==============================] - 1s 32ms/step - loss: 0.5799 - accuracy: 0.7875 - val_loss: 1.4212 - val_accuracy: 0.2333\n",
      "Epoch 2/10\n",
      "8/8 [==============================] - 0s 9ms/step - loss: 0.5447 - accuracy: 0.7917 - val_loss: 1.4263 - val_accuracy: 0.3500\n",
      "Epoch 3/10\n",
      "8/8 [==============================] - 0s 9ms/step - loss: 0.4516 - accuracy: 0.8875 - val_loss: 1.3770 - val_accuracy: 0.2333\n",
      "Epoch 4/10\n",
      "8/8 [==============================] - 0s 10ms/step - loss: 0.3649 - accuracy: 0.9625 - val_loss: 1.4314 - val_accuracy: 0.3167\n",
      "Epoch 5/10\n",
      "8/8 [==============================] - 0s 7ms/step - loss: 0.3102 - accuracy: 0.9708 - val_loss: 1.4145 - val_accuracy: 0.2667\n",
      "Epoch 6/10\n",
      "8/8 [==============================] - 0s 8ms/step - loss: 0.2479 - accuracy: 0.9958 - val_loss: 1.4429 - val_accuracy: 0.2833\n",
      "Epoch 7/10\n",
      "8/8 [==============================] - 0s 9ms/step - loss: 0.2108 - accuracy: 0.9958 - val_loss: 1.5244 - val_accuracy: 0.2500\n",
      "Epoch 8/10\n",
      "8/8 [==============================] - 0s 8ms/step - loss: 0.1756 - accuracy: 0.9917 - val_loss: 1.6733 - val_accuracy: 0.3333\n",
      "Epoch 9/10\n",
      "8/8 [==============================] - 0s 7ms/step - loss: 0.1625 - accuracy: 1.0000 - val_loss: 1.6388 - val_accuracy: 0.3167\n",
      "Epoch 10/10\n",
      "8/8 [==============================] - 0s 9ms/step - loss: 0.1227 - accuracy: 1.0000 - val_loss: 1.6911 - val_accuracy: 0.2500\n",
      "Model: \"sequential_3\"\n",
      "_________________________________________________________________\n",
      " Layer (type)                Output Shape              Param #   \n",
      "=================================================================\n",
      " flatten_3 (Flatten)         (None, 784)               0         \n",
      "                                                                 \n",
      " dense_9 (Dense)             (None, 128)               100480    \n",
      "                                                                 \n",
      " dense_10 (Dense)            (None, 64)                8256      \n",
      "                                                                 \n",
      " dense_11 (Dense)            (None, 3)                 195       \n",
      "                                                                 \n",
      "=================================================================\n",
      "Total params: 108931 (425.51 KB)\n",
      "Trainable params: 108931 (425.51 KB)\n",
      "Non-trainable params: 0 (0.00 Byte)\n",
      "_________________________________________________________________\n"
     ]
    }
   ],
   "source": [
    "## ⚙️ Step 4: Compile and Train the Model\n",
    "# Compile the model\n",
    "model.compile(optimizer=Adam(), loss='categorical_crossentropy', metrics=['accuracy'])\n",
    "\n",
    "# Train the model\n",
    "history = model.fit(X_train, y_train_encoded, epochs=10, batch_size=32, validation_split=0.2)\n",
    "## 📊 Model Summary\n",
    "# Print the model architecture\n",
    "model.summary()"
   ]
  },
  {
   "cell_type": "code",
   "execution_count": 28,
   "id": "200d106f-c0cc-4599-b933-625255f1f4a2",
   "metadata": {},
   "outputs": [
    {
     "name": "stdout",
     "output_type": "stream",
     "text": [
      "\n",
      "🧪 Testing model on new unseen data...\n",
      "1/1 [==============================] - 0s 28ms/step\n",
      "Test Image 1: Predicted as 'Cat' with 0.46 confidence\n",
      "Test Image 2: Predicted as 'Dog' with 0.58 confidence\n",
      "Test Image 3: Predicted as 'Dog' with 0.61 confidence\n",
      "Test Image 4: Predicted as 'Dog' with 0.46 confidence\n",
      "Test Image 5: Predicted as 'Dog' with 0.71 confidence\n",
      "Model: \"sequential_3\"\n",
      "_________________________________________________________________\n",
      " Layer (type)                Output Shape              Param #   \n",
      "=================================================================\n",
      " flatten_3 (Flatten)         (None, 784)               0         \n",
      "                                                                 \n",
      " dense_9 (Dense)             (None, 128)               100480    \n",
      "                                                                 \n",
      " dense_10 (Dense)            (None, 64)                8256      \n",
      "                                                                 \n",
      " dense_11 (Dense)            (None, 3)                 195       \n",
      "                                                                 \n",
      "=================================================================\n",
      "Total params: 108931 (425.51 KB)\n",
      "Trainable params: 108931 (425.51 KB)\n",
      "Non-trainable params: 0 (0.00 Byte)\n",
      "_________________________________________________________________\n"
     ]
    }
   ],
   "source": [
    "## 🔍 Step 5: Evaluate on Unseen Test Data\n",
    "print(\"\\n🧪 Testing model on new unseen data...\")\n",
    "X_test = np.random.rand(5, image_height, image_width, 1)\n",
    "predictions = model.predict(X_test)\n",
    "\n",
    "class_names = ['Cat', 'Dog', 'Raccoon']\n",
    "for i, pred in enumerate(predictions):\n",
    "    predicted_class = class_names[np.argmax(pred)]\n",
    "    confidence = np.max(pred)\n",
    "    print(f\"Test Image {i+1}: Predicted as '{predicted_class}' with {confidence:.2f} confidence\")\n",
    "\n",
    "## 📊 Model Summary\n",
    "# Print the model architecture\n",
    "model.summary()"
   ]
  },
  {
   "cell_type": "code",
   "execution_count": null,
   "id": "b15ab76d-a534-4aa6-b85a-0ea8a76cadf0",
   "metadata": {},
   "outputs": [],
   "source": []
  }
 ],
 "metadata": {
  "kernelspec": {
   "display_name": "Python 3 (ipykernel)",
   "language": "python",
   "name": "python3"
  },
  "language_info": {
   "codemirror_mode": {
    "name": "ipython",
    "version": 3
   },
   "file_extension": ".py",
   "mimetype": "text/x-python",
   "name": "python",
   "nbconvert_exporter": "python",
   "pygments_lexer": "ipython3",
   "version": "3.8.2"
  }
 },
 "nbformat": 4,
 "nbformat_minor": 5
}
